{
 "cells": [
  {
   "cell_type": "markdown",
   "id": "0a811e0f-6f11-4278-a12f-8974578c72c0",
   "metadata": {},
   "source": [
    "# Parte 1 (Programación y sintaxis) "
   ]
  },
  {
   "cell_type": "markdown",
   "id": "b96e9527-7356-4bef-9bca-aa0996886717",
   "metadata": {
    "tags": []
   },
   "source": [
    "### A continuacion se le muestran una lista de ejercicios que deberá completar utilizando Python, debe usar Markdown para indicar donde inicia cada uno de los ejercicios."
   ]
  },
  {
   "cell_type": "markdown",
   "id": "3e812569-aa3b-42f0-813e-d39c5491fc93",
   "metadata": {},
   "source": [
    "#1. Haga un programa en Python que reciba de parametro un numero de segundos y que despliegue en pantalla, las horas, minutos y segundos que representan.\n",
    "Por ejemplo:\n",
    "Si el numero de segundos recibidos fuera: 2743 entonces su programa deberıa desplegar:\n",
    "Horas: 0, Minutos: 45 , Segundos: 43\n",
    "Si el numero de segundos recibidos fuera 5871: Horas: 1, Minutos: 37 , Segundos: 51\n",
    "Recuerde manejar excepciones y errores que considere necesarios."
   ]
  },
  {
   "cell_type": "code",
   "execution_count": 30,
   "id": "022758f2-03bc-4810-8172-a7adaf522034",
   "metadata": {
    "tags": []
   },
   "outputs": [
    {
     "name": "stdin",
     "output_type": "stream",
     "text": [
      "Ingrese el número de segundos:  5780\n"
     ]
    },
    {
     "name": "stdout",
     "output_type": "stream",
     "text": [
      "Horas: 1, Minutos: 36, Segundos: 20\n"
     ]
    }
   ],
   "source": [
    "# -----------------EJERCICIO 1 ----------------------\n",
    "\n",
    "def convertir_segundos(segundos):\n",
    "    try:\n",
    "        \n",
    "        segundos = int(segundos)\n",
    "\n",
    "        if segundos <= 0:\n",
    "            raise ValueError(\"El número de segundos debe ser un valor positivo.\")\n",
    "        \n",
    "        # CONVERSION\n",
    "        horas = segundos // 3600\n",
    "        minutos = (segundos % 3600) // 60\n",
    "        segundos_restantes = segundos % 60\n",
    "        \n",
    "        # IMPRIMIENDO\n",
    "        print(f\"Horas: {horas}, Minutos: {minutos}, Segundos: {segundos_restantes}\")\n",
    "\n",
    "    except ValueError:\n",
    "        \n",
    "        print(\"Error: Ingrese un número positivo.\")\n",
    "\n",
    "\n",
    "segundos_ingresados = input(\"Ingrese el número de segundos: \")\n",
    "\n",
    "if segundos_ingresados.isdigit():\n",
    "    convertir_segundos(segundos_ingresados)\n",
    "else:\n",
    "    print(\"Error: Ingrese solo números y mayores a 0\")\n",
    "    "
   ]
  },
  {
   "cell_type": "markdown",
   "id": "43e11431-fef0-40c8-9004-0e290211e748",
   "metadata": {
    "tags": []
   },
   "source": [
    "#2. Haga una funcion en Python que dado un numero entre 1 y 20. Y un caracter cualquiera\n",
    "despliegue cuatro patrones triangulares.\n",
    "Por ejemplo si el usuario ingresara el nu´mero 4 y el sımbolo * el programa debera desplegar\n",
    "lo siguiente:"
   ]
  },
  {
   "cell_type": "code",
   "execution_count": 33,
   "id": "66dfe70c-c13d-4d50-9da0-07b890195fa0",
   "metadata": {
    "tags": []
   },
   "outputs": [
    {
     "name": "stdin",
     "output_type": "stream",
     "text": [
      "Ingrese un número entre 1 y 20:  15\n",
      "Ingrese un carácter:  5\n"
     ]
    },
    {
     "name": "stdout",
     "output_type": "stream",
     "text": [
      "5\n",
      "55\n",
      "555\n",
      "5555\n",
      "55555\n",
      "555555\n",
      "5555555\n",
      "55555555\n",
      "555555555\n",
      "5555555555\n",
      "55555555555\n",
      "555555555555\n",
      "5555555555555\n",
      "55555555555555\n",
      "555555555555555\n",
      "\n",
      "555555555555555\n",
      "55555555555555\n",
      "5555555555555\n",
      "555555555555\n",
      "55555555555\n",
      "5555555555\n",
      "555555555\n",
      "55555555\n",
      "5555555\n",
      "555555\n",
      "55555\n",
      "5555\n",
      "555\n",
      "55\n",
      "5\n",
      "\n",
      "5\n",
      "55\n",
      "555\n",
      "5555\n",
      "55555\n",
      "555555\n",
      "5555555\n",
      "55555555\n",
      "555555555\n",
      "5555555555\n",
      "55555555555\n",
      "555555555555\n",
      "5555555555555\n",
      "55555555555555\n",
      "555555555555555\n",
      "\n",
      "555555555555555\n",
      " 55555555555555\n",
      "  5555555555555\n",
      "   555555555555\n",
      "    55555555555\n",
      "     5555555555\n",
      "      555555555\n",
      "       55555555\n",
      "        5555555\n",
      "         555555\n",
      "          55555\n",
      "           5555\n",
      "            555\n",
      "             55\n",
      "              5\n"
     ]
    }
   ],
   "source": [
    "# Ejercicio 2\n",
    "# --------- EJERCICIO 2 ----------\n",
    "\n",
    "def print_patrones(num, caracter):\n",
    "    \n",
    "    # TRIANGULO VIENDO HACIA ARRIBA \n",
    "    for i in range(1, num + 1):\n",
    "        print(caracter * i)\n",
    "\n",
    "    print() \n",
    "\n",
    "    # TRIANGULO VIENDO HACIA ABAJO \n",
    "    for i in range(num, 0, -1):\n",
    "        print(caracter * i)\n",
    "\n",
    "    print() \n",
    "\n",
    "    # TRIANGULO VIENDO HACIA UN LADO\n",
    "    for i in range(1, num + 1):\n",
    "        print(caracter * i)\n",
    "\n",
    "    print() \n",
    "\n",
    "    # TRIANGULO VIENDO HACIA EL OTRO LADO\n",
    "    for i in range(num, 0, -1):\n",
    "        print(\" \" * (num - i) + caracter * i)\n",
    "\n",
    "def obtener_numero():\n",
    "    while True:\n",
    "        try:\n",
    "            numero = int(input(\"Ingrese un número entre 1 y 20: \"))\n",
    "            #Validación del número entre 1 y 20\n",
    "            if 1 <= numero <= 20:\n",
    "                return numero\n",
    "            else:\n",
    "                print(\"El número debe estar entre 1 y 20.\")\n",
    "        except ValueError:\n",
    "            print(\"Por favor, ingrese solo números.\")\n",
    "\n",
    "# INGRESO DE DATA\n",
    "numero = obtener_numero()\n",
    "simbolo = input(\"Ingrese un carácter: \")\n",
    "\n",
    "print_patrones(numero, simbolo)"
   ]
  },
  {
   "cell_type": "markdown",
   "id": "4103e331-afe6-4a2e-8fd5-3aa779621d5c",
   "metadata": {
    "tags": []
   },
   "source": [
    "#3. Haga un programa en Python que la fecha de nacimiento de una persona (puede ingresar por\n",
    "separado cada valor, es decir pedir primero dıa, luego mes y luego año), despliegue la edad de la persona en años, meses y dıas. Su resultado puede ser aproximado."
   ]
  },
  {
   "cell_type": "code",
   "execution_count": 46,
   "id": "a03ff753-7a8d-417c-86c6-7bddfa2cac7f",
   "metadata": {
    "tags": []
   },
   "outputs": [
    {
     "name": "stdin",
     "output_type": "stream",
     "text": [
      "Ingrese el día de nacimiento (1-31):  06\n",
      "Ingrese el mes de nacimiento (1-12):  069\n",
      "Ingrese el año de nacimiento (4 NUMEROS):  1990\n"
     ]
    },
    {
     "name": "stdout",
     "output_type": "stream",
     "text": [
      "El día debe estar entre 1 y 31, el mes entre 1 y 12, y el año debe tener 4 dígitos. Intente nuevamente.\n"
     ]
    },
    {
     "name": "stdin",
     "output_type": "stream",
     "text": [
      "Ingrese el día de nacimiento (1-31):  06\n",
      "Ingrese el mes de nacimiento (1-12):  06\n",
      "Ingrese el año de nacimiento (4 NUMEROS):  1990\n"
     ]
    },
    {
     "name": "stdout",
     "output_type": "stream",
     "text": [
      "Edad aproximada: 33 años, 9 meses y 3 días.\n"
     ]
    }
   ],
   "source": [
    "# -----------------EJERCICIO 3 ---------------------- \n",
    "\n",
    "from datetime import datetime\n",
    "\n",
    "def calcular_edad(fecha_nacimiento):\n",
    "    fecha_actual = datetime.now()\n",
    "    edad = fecha_actual - fecha_nacimiento\n",
    "\n",
    "    # CALCULO MESES, DÍAS, AÑOS\n",
    "    anos = edad.days // 365\n",
    "    meses = (edad.days % 365) // 30\n",
    "    dias = (edad.days % 365) % 30\n",
    "\n",
    "    return anos, meses, dias\n",
    "\n",
    "# SOLICITUD DE DATOS\n",
    "while True:\n",
    "    try:\n",
    "        dia = int(input(\"Ingrese el día de nacimiento (1-31): \"))\n",
    "        mes = int(input(\"Ingrese el mes de nacimiento (1-12): \"))\n",
    "        anio = int(input(\"Ingrese el año de nacimiento (4 NUMEROS): \"))\n",
    "\n",
    "        # VALIDACIÓN DE LA DATA INGRESADA\n",
    "        if 1 <= dia <= 31 and 1 <= mes <= 12 and len(str(anio)) == 4:\n",
    "            break\n",
    "        else:\n",
    "            print(\"El día debe estar entre 1 y 31, el mes entre 1 y 12, y el año debe tener 4 dígitos. Intente nuevamente.\")\n",
    "\n",
    "    except ValueError:\n",
    "        print(\"ERROR!, ingrese valores numéricos válidos para el día, mes y año.\")\n",
    "\n",
    "fecha_nacimiento = datetime(anio, mes, dia)\n",
    "\n",
    "edad_en_anos, edad_en_meses, edad_en_dias = calcular_edad(fecha_nacimiento)\n",
    "\n",
    "# PRINT DATA\n",
    "print(f\"Edad aproximada: {edad_en_anos} años, {edad_en_meses} meses y {edad_en_dias} días.\")\n"
   ]
  },
  {
   "cell_type": "markdown",
   "id": "7edc57b1-d098-4e8a-812f-63c65918b0ed",
   "metadata": {},
   "source": [
    "#4.  Escriba una funcion en Python que dada una tupla de elementos (numeros o letras) esta se\n",
    "convierta a un string. Tomar nota del siguiente ejemplo:\n",
    "Si la entrada fuera: (10, 20, 40, 5, 70)\n",
    "La salida deberia ser: 102040570"
   ]
  },
  {
   "cell_type": "code",
   "execution_count": 3,
   "id": "50a02352-2f38-4687-b8e6-6259a814e832",
   "metadata": {
    "tags": []
   },
   "outputs": [
    {
     "name": "stdout",
     "output_type": "stream",
     "text": [
      "1020401570\n"
     ]
    }
   ],
   "source": [
    "def tupla_to_string(tupla):\n",
    "    \n",
    "    resultado = ''.join(str(elemento) for elemento in tupla)\n",
    "    return resultado\n",
    "\n",
    "\n",
    "entrada = (10, 20, 40, 15, 70)\n",
    "salida = tupla_to_string(entrada)\n",
    "print(salida)\n"
   ]
  },
  {
   "cell_type": "markdown",
   "id": "03f27834-c5a2-4e24-a242-6e0139d4e5a8",
   "metadata": {},
   "source": [
    "#5. Cree un programa en Python que dada una lista de tuplas, elimine las tuplas que estan vacias.\n",
    "Tomar nota del siguiente ejemplo:\n",
    "Si la lista fuera: [(), (), (’X’,), (’a’, ’b’), (’a’, ’b’, ’c’), (’d’)]\n",
    "El resultado deberia ser: [(’X’), (’a’, ’b’), (’a’, ’b’, ’c’), ’d’]"
   ]
  },
  {
   "cell_type": "code",
   "execution_count": 4,
   "id": "7fed597d-9cfc-4543-b652-55992b968a52",
   "metadata": {
    "tags": []
   },
   "outputs": [
    {
     "name": "stdout",
     "output_type": "stream",
     "text": [
      "[('X',), ('a', 'b'), ('a', 'b', 'c'), 'd']\n"
     ]
    }
   ],
   "source": [
    "def delete_tuplas_vacias(list_tuplas):\n",
    "    \n",
    "    resultado = [tupla for tupla in list_tuplas if tupla]\n",
    "    return resultado\n",
    "\n",
    "\n",
    "lista_original = [(), (), ('X',), ('a', 'b'), ('a', 'b', 'c'), ('d')]\n",
    "resultado_final = delete_tuplas_vacias(lista_original)\n",
    "print(resultado_final)\n"
   ]
  },
  {
   "cell_type": "markdown",
   "id": "a266d584-4a3a-43c7-853d-c968d4c9b914",
   "metadata": {},
   "source": [
    "#6.Cree una funcion en Python que dada una tupla de tuplas con numeros, produzca una tupla\n",
    "con el promedio de cada tupla individual, debe usar comprehensions para desarrollar este\n",
    "ejercicio. Tomar nota del siguiente ejemplo:\n",
    "Si la tupla de entrada fuera: ((10, 10, 10, 12), (30, 45, 56, 45), (81, 80, 39, 32))\n",
    "El resultado deberia ser: (10.5, 44, 58)"
   ]
  },
  {
   "cell_type": "code",
   "execution_count": 5,
   "id": "e176ad99-5fe6-4c01-b44e-9dd34ceb4bba",
   "metadata": {
    "tags": []
   },
   "outputs": [
    {
     "name": "stdout",
     "output_type": "stream",
     "text": [
      "(10.5, 44.0, 58.0)\n"
     ]
    }
   ],
   "source": [
    "def prom_tuplas(tupla_de_tuplas):\n",
    "    \n",
    "    #PROMEDIO DE TUPLAS\n",
    "    promedios = tuple(sum(tupla) / len(tupla) for tupla in tupla_de_tuplas)\n",
    "    return promedios\n",
    "\n",
    "\n",
    "tupla_entrada = ((10, 10, 10, 12), (30, 45, 56, 45), (81, 80, 39, 32))\n",
    "resultado = prom_tuplas(tupla_entrada)\n",
    "print(resultado)\n"
   ]
  },
  {
   "cell_type": "markdown",
   "id": "18b13c3c-82d7-4574-9594-45194c0ad44b",
   "metadata": {},
   "source": [
    "#7. Escribir un programa que gestione las facturas pendientes de cobro de una empresa. Las\n",
    "facturas se almacenaran en un diccionario donde la llave de cada factura sera el numero de\n",
    "factura (debe utilizar un numero de 4 dıgitos) y el valor el coste de la factura. El programa\n",
    "debe preguntar al usuario si quiere aÑadir una nueva factura, pagar una existente o terminar.\n",
    "Si desea aÑadir una nueva factura se preguntara por el numero de factura y su coste y se\n",
    "aÑadira al diccionario, para confirmar que la factura se ingreso correctamente el programa\n",
    "debe desplegar el diccionario completo. Si se desea pagar una factura se preguntara por el\n",
    "numero de factura y se eliminara del diccionario. Despues de cada operacion el programa\n",
    "debe mostrar en pantalla la cantidad cobrada hasta el momento y la cantidad pendiente de\n",
    "cobro. Puede utilizar otras estructuras de datos como apoyo si lo considera necesario."
   ]
  },
  {
   "cell_type": "code",
   "execution_count": 2,
   "id": "4a50c1e5-f17f-4ff8-b2cd-8b7ec23f17c2",
   "metadata": {
    "tags": []
   },
   "outputs": [
    {
     "name": "stdout",
     "output_type": "stream",
     "text": [
      "\n",
      "--- MENÚ ---\n",
      "-----------------\n",
      "1. Añadir factura\n",
      "2. Pagar factura existente\n",
      "3. FIN\n",
      "---------------\n"
     ]
    },
    {
     "name": "stdin",
     "output_type": "stream",
     "text": [
      "Seleccione una opción ([1][2][3]):  1\n",
      "Ingrese el número de factura (4 dígitos):  6565\n",
      "Ingrese el costo de la factura:  1200\n"
     ]
    },
    {
     "name": "stdout",
     "output_type": "stream",
     "text": [
      "\n",
      "Factura añadida correctamente:\n",
      "Número de factura: 6565\n",
      "Costo de la factura: 1200.0\n",
      "Facturas pendientes de cobro: {'6565': 1200.0}\n",
      "Total cobrado hasta el momento: 1200.0\n",
      "Cantidad pendiente de cobro: 1200.0\n",
      "\n",
      "--- MENÚ ---\n",
      "-----------------\n",
      "1. Añadir factura\n",
      "2. Pagar factura existente\n",
      "3. FIN\n",
      "---------------\n"
     ]
    },
    {
     "name": "stdin",
     "output_type": "stream",
     "text": [
      "Seleccione una opción ([1][2][3]):  3\n"
     ]
    },
    {
     "name": "stdout",
     "output_type": "stream",
     "text": [
      "Usted seleccionó finalizar programa [PROGRAMA CERRADO!].\n"
     ]
    }
   ],
   "source": [
    "def gestion_facturas():\n",
    "    facturas = {}  \n",
    "    total_cobrado = 0\n",
    "\n",
    "    while True:\n",
    "        print(\"\\n--- MENÚ ---\")\n",
    "        print(\"-----------------\")\n",
    "        print(\"1. Añadir factura\")\n",
    "        print(\"2. Pagar factura existente\")\n",
    "        print(\"3. FIN\")\n",
    "        print(\"---------------\")\n",
    "\n",
    "        opcion = input(\"Seleccione una opción ([1][2][3]): \")\n",
    "\n",
    "        if opcion == \"1\":\n",
    "            numero_factura = input(\"Ingrese el número de factura (4 dígitos): \")\n",
    "            costo_factura = float(input(\"Ingrese el costo de la factura: \"))\n",
    "\n",
    "            facturas[numero_factura] = costo_factura\n",
    "            total_cobrado += costo_factura\n",
    "\n",
    "            print(\"\\nFactura añadida correctamente:\")\n",
    "            print(\"Número de factura:\", numero_factura)\n",
    "            print(\"Costo de la factura:\", costo_factura)\n",
    "            print(\"Facturas pendientes de cobro:\", facturas)\n",
    "            print(\"Total cobrado hasta el momento:\", total_cobrado)\n",
    "            print(\"Cantidad pendiente de cobro:\", sum(facturas.values()))\n",
    "\n",
    "        elif opcion == \"2\":\n",
    "            if not facturas:\n",
    "                print(\"Usted no tiene facturas pendientes.\")\n",
    "            else:\n",
    "                numero_factura = input(\"Ingrese el número de factura a pagar: \")\n",
    "                if numero_factura in facturas:\n",
    "                    costo_factura = facturas.pop(numero_factura)\n",
    "                    total_cobrado -= costo_factura\n",
    "                    print(f\"\\nFactura [{numero_factura}] pagada correctamente.\")\n",
    "                else:\n",
    "                    print(f\"Favor intentar nuevamente, {numero_factura} no existe en el sistema.\")\n",
    "\n",
    "                print(\"Facturas pendientes de cobranza:\", facturas)\n",
    "                print(\"Total cobrado:\", total_cobrado)\n",
    "                print(\"Cantidad pendiente de cobranza:\", sum(facturas.values()))\n",
    "\n",
    "        elif opcion == \"3\":\n",
    "            print(\"Usted seleccionó finalizar programa [PROGRAMA CERRADO!].\")\n",
    "            break\n",
    "\n",
    "        else:\n",
    "            print(\"Usted ingreso una opción no valida, favor intentar nuevamente.\")\n",
    "\n",
    "\n",
    "gestion_facturas()\n"
   ]
  },
  {
   "cell_type": "markdown",
   "id": "97ee5ec9-6685-47e9-9e4c-c28dae0909fc",
   "metadata": {},
   "source": [
    "#8. Haga una funcion en Python, que cree un set con todas las cartas de una baraja de Pocker utilizando el siguiente formato: \n",
    "Tipo-Numero. Utilice las letras T para treboles, C para corazones, P para picas y E para espadas.\n",
    "Para los numeros utilice la numeracion del 1 al 13 Por ejemplo E13 - serıa Rey de Espadas, P01 serıa As de Picas, T05 serıa cinco de Treboles.\n",
    "\n",
    "Posteriormente cree una funcion que dado el conjunto anterior cree dos sets nuevos de cartas,\n",
    "cada conjunto debe tener una cantidad variable de elementos, puede utilizar numeros aleatorios enteros para definir la longitud de los conjuntos.\n",
    "\n",
    "Adicionalmente, debera calcular la probabilidad de la intersecc´on de ambos conjuntos y demuestre si son eventos independientes con la regla del producto.\n",
    "\n",
    "Para concluir, calcule probabilidad de la union de ambos conjuntos y demuestre que se cumple\n",
    "la regla de la adicion."
   ]
  },
  {
   "cell_type": "code",
   "execution_count": 3,
   "id": "8c04eb2f-5468-471a-abbb-a520c5088f04",
   "metadata": {
    "tags": []
   },
   "outputs": [
    {
     "name": "stdout",
     "output_type": "stream",
     "text": [
      "\n",
      "Set 1: {'T09', 'P10', 'C04', 'C05', 'T06', 'C10', 'P12', 'E05', 'P11', 'C03', 'T10', 'T11', 'E09', 'P06', 'P07', 'E03', 'T01', 'C11', 'C12'}\n",
      "Set 2: {'E12', 'E03', 'P10', 'P02', 'T10', 'C03'}\n",
      "\n",
      "Intersection Probability: 0.6666666666666666\n",
      "Product Rule: 0.04215976331360947\n",
      "Independent Events: False\n",
      "\n",
      "Union Probability: 1.105263157894737\n",
      "Addition Rule: 0.40384615384615385\n",
      "Addition Rule Valid: False\n"
     ]
    }
   ],
   "source": [
    "#\n",
    "import random\n",
    "\n",
    "#DECK CREATION----------------------------------------------------\n",
    "def create_deck():\n",
    "    suits = ['T', 'C', 'P', 'E']\n",
    "    numbers = [str(i).zfill(2) for i in range(1, 14)]\n",
    "    deck = {suit + number for suit in suits for number in numbers}\n",
    "    return deck\n",
    "\n",
    "#RANDOM SETS------------------------------------------------------\n",
    "def create_random_sets(deck):\n",
    "    set1_length = random.randint(1, len(deck))\n",
    "    set2_length = random.randint(1, len(deck))\n",
    "\n",
    "    set1 = set(random.sample(list(deck), set1_length))\n",
    "    set2 = set(random.sample(list(deck), set2_length))\n",
    "\n",
    "    return set1, set2\n",
    "\n",
    "#INTERSEC\n",
    "def calculate_intersection_probability(set1, set2):\n",
    "    intersection = set1.intersection(set2)\n",
    "    intersection_probability = len(intersection) / min(len(set1), len(set2))\n",
    "    return intersection_probability\n",
    "\n",
    "#UNION\n",
    "def calculate_union_probability(set1, set2):\n",
    "    union = set1.union(set2)\n",
    "    union_probability = len(union) / max(len(set1), len(set2))\n",
    "    return union_probability\n",
    "\n",
    "# CREACION DECK\n",
    "deck = create_deck()\n",
    "\n",
    "# NUMEROS ALEATORIOS\n",
    "set1, set2 = create_random_sets(deck)\n",
    "\n",
    "#REGLA DEL PRODUCTO\n",
    "prob_intersection = calculate_intersection_probability(set1, set2)\n",
    "product_rule = (len(set1) / len(deck)) * (len(set2) / len(deck))\n",
    "\n",
    "print(f\"\\nSet 1: {set1}\")\n",
    "print(f\"Set 2: {set2}\")\n",
    "\n",
    "print(f\"\\nIntersection Probability: {prob_intersection}\")\n",
    "print(f\"Product Rule: {product_rule}\")\n",
    "print(f\"Independent Events: {prob_intersection == product_rule}\")\n",
    "\n",
    "# REGLA DE LA ADICION\n",
    "prob_union = calculate_union_probability(set1, set2)\n",
    "addition_rule = (len(set1) + len(set2) - len(set1.intersection(set2))) / len(deck)\n",
    "\n",
    "#IMPRIMIR RESULTADOS\n",
    "print(f\"\\nUnion Probability: {prob_union}\")\n",
    "print(f\"Addition Rule: {addition_rule}\")\n",
    "print(f\"Addition Rule Valid: {prob_union == addition_rule}\")\n",
    "\n"
   ]
  },
  {
   "cell_type": "code",
   "execution_count": null,
   "id": "e3fae8de-a187-4644-879e-fb620f822777",
   "metadata": {},
   "outputs": [],
   "source": []
  }
 ],
 "metadata": {
  "kernelspec": {
   "display_name": "Python 3 (ipykernel)",
   "language": "python",
   "name": "python3"
  },
  "language_info": {
   "codemirror_mode": {
    "name": "ipython",
    "version": 3
   },
   "file_extension": ".py",
   "mimetype": "text/x-python",
   "name": "python",
   "nbconvert_exporter": "python",
   "pygments_lexer": "ipython3",
   "version": "3.11.5"
  }
 },
 "nbformat": 4,
 "nbformat_minor": 5
}
